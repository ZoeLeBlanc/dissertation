{
 "cells": [
  {
   "cell_type": "code",
   "execution_count": 1,
   "metadata": {},
   "outputs": [],
   "source": [
    "#Import required libraries\n",
    "import pandas as pd\n",
    "import altair as alt\n",
    "alt.renderers.enable('notebook')\n",
    "alt.data_transformers.enable('default', max_rows=None)\n",
    "import warnings\n",
    "warnings.filterwarnings('ignore')"
   ]
  },
  {
   "cell_type": "code",
   "execution_count": 2,
   "metadata": {},
   "outputs": [],
   "source": [
    "df = pd.read_csv('../../../data_repos/data_sources/nasser_archive/nasser_speeches_all.csv')"
   ]
  },
  {
   "cell_type": "code",
   "execution_count": 3,
   "metadata": {},
   "outputs": [
    {
     "data": {
      "text/plain": [
       "0       01/11/1952\n",
       "1       15/11/1952\n",
       "2       30/01/1953\n",
       "3       23/02/1953\n",
       "4       25/02/1953\n",
       "5       27/02/1953\n",
       "6       01/03/1953\n",
       "7       13/03/1953\n",
       "8       17/03/1953\n",
       "9       20/03/1953\n",
       "10      24/03/1953\n",
       "11      26/03/1953\n",
       "12      27/03/1953\n",
       "13      27/03/1953\n",
       "14      05/04/1953\n",
       "15      09/04/1953\n",
       "16      09/04/1953\n",
       "17      09/04/1953\n",
       "18      09/04/1953\n",
       "19      09/04/1953\n",
       "20      09/04/1953\n",
       "21      09/04/1953\n",
       "22      10/04/1953\n",
       "23      10/04/1953\n",
       "24      10/04/1953\n",
       "25      10/04/1953\n",
       "26      11/04/1953\n",
       "27      11/04/1953\n",
       "28      11/04/1953\n",
       "29      11/04/1953\n",
       "           ...    \n",
       "1054    11/08/1963\n",
       "1055    04/09/1963\n",
       "1056    01/10/1963\n",
       "1057    02/10/1963\n",
       "1058    10/10/1963\n",
       "1059    22/10/1963\n",
       "1060    10/12/1963\n",
       "1061    13/12/1963\n",
       "1062    13/12/1963\n",
       "1063    14/12/1963\n",
       "1064    16/12/1963\n",
       "1065    23/12/1963\n",
       "1066    24/12/1963\n",
       "1067    13/01/1964\n",
       "1068    06/02/1964\n",
       "1069    22/02/1964\n",
       "1070    26/03/1964\n",
       "1071    30/03/1964\n",
       "1072    22/04/1964\n",
       "1073    23/04/1964\n",
       "1074    24/04/1964\n",
       "1075    25/04/1964\n",
       "1076    26/04/1964\n",
       "1077    01/05/1964\n",
       "1078    09/05/1964\n",
       "1079    09/05/1964\n",
       "1080    10/05/1964\n",
       "1081    11/05/1964\n",
       "1082    12/05/1964\n",
       "1083    14/05/1964\n",
       "Name: date, Length: 1084, dtype: object"
      ]
     },
     "execution_count": 3,
     "metadata": {},
     "output_type": "execute_result"
    }
   ],
   "source": [
    "df.date"
   ]
  },
  {
   "cell_type": "code",
   "execution_count": 4,
   "metadata": {},
   "outputs": [],
   "source": [
    "df['date_time']  = pd.to_datetime(df['date'], format='%d/%m/%Y', errors='coerce')"
   ]
  },
  {
   "cell_type": "code",
   "execution_count": 10,
   "metadata": {},
   "outputs": [],
   "source": [
    "df_1960 = df.query('date.str.contains(\"05/1960\")')"
   ]
  },
  {
   "cell_type": "code",
   "execution_count": 11,
   "metadata": {},
   "outputs": [
    {
     "data": {
      "text/plain": [
       "11"
      ]
     },
     "execution_count": 11,
     "metadata": {},
     "output_type": "execute_result"
    }
   ],
   "source": [
    "len(df_1960)"
   ]
  },
  {
   "cell_type": "code",
   "execution_count": 14,
   "metadata": {},
   "outputs": [],
   "source": [
    "df_text = df_1960.query('title.str.contains(\"The address by President Gamal Abdel Nasser from the Presidential Palace to the members of the board of newspapers and magazines\")')"
   ]
  },
  {
   "cell_type": "code",
   "execution_count": 17,
   "metadata": {},
   "outputs": [
    {
     "data": {
      "text/plain": [
       "Index(['Unnamed: 0', 'texts', 'title', 'text_link', 'date', 'page_link',\n",
       "       'translated_text', 'date_time'],\n",
       "      dtype='object')"
      ]
     },
     "execution_count": 17,
     "metadata": {},
     "output_type": "execute_result"
    }
   ],
   "source": [
    "df.columns"
   ]
  },
  {
   "cell_type": "code",
   "execution_count": 18,
   "metadata": {},
   "outputs": [],
   "source": [
    "df['congo_counts'] = df.texts.apply(lambda x: x.count('الكونغو'))"
   ]
  },
  {
   "cell_type": "code",
   "execution_count": 24,
   "metadata": {},
   "outputs": [
    {
     "data": {
      "text/plain": [
       "['The speech given by President Gamal Abdel Nasser at a cooperative conference in Cairo University 26/11/1958',\n",
       " 'A televised interview with Woodrow Wyatt from British television',\n",
       " 'The speech given by President Gamal Abdel Nasser on his return from New York ',\n",
       " 'The speech given by President Gamal Abdel Nasser on Victory Day from Port Said',\n",
       " 'The address by President Gamal Abdel Nasser from Al Diafa Palace celebrating the 3rd year of the United  Arab Republic',\n",
       " 'The interview given by President Gamal Abdel Nasser to Colombia broadcasting company',\n",
       " 'The address by President Gamal Abdel Nasser at the African Summit Conference in Addis Ababa in Ethiopia']"
      ]
     },
     "execution_count": 24,
     "metadata": {},
     "output_type": "execute_result"
    }
   ],
   "source": [
    "df_congo = df.query('texts.str.contains(\"الكونغو\")')\n",
    "df_congo.title.tolist()"
   ]
  },
  {
   "cell_type": "code",
   "execution_count": 22,
   "metadata": {},
   "outputs": [
    {
     "data": {
      "text/html": [
       "<div>\n",
       "<style scoped>\n",
       "    .dataframe tbody tr th:only-of-type {\n",
       "        vertical-align: middle;\n",
       "    }\n",
       "\n",
       "    .dataframe tbody tr th {\n",
       "        vertical-align: top;\n",
       "    }\n",
       "\n",
       "    .dataframe thead th {\n",
       "        text-align: right;\n",
       "    }\n",
       "</style>\n",
       "<table border=\"1\" class=\"dataframe\">\n",
       "  <thead>\n",
       "    <tr style=\"text-align: right;\">\n",
       "      <th></th>\n",
       "      <th>Unnamed: 0</th>\n",
       "      <th>texts</th>\n",
       "      <th>title</th>\n",
       "      <th>text_link</th>\n",
       "      <th>date</th>\n",
       "      <th>page_link</th>\n",
       "      <th>translated_text</th>\n",
       "      <th>date_time</th>\n",
       "      <th>congo_counts</th>\n",
       "    </tr>\n",
       "  </thead>\n",
       "  <tbody>\n",
       "    <tr>\n",
       "      <th>951</th>\n",
       "      <td>951</td>\n",
       "      <td>\\n\\n\\n\\n\\nخطاب الرئيس جمال عبد الناصر فى عيد ا...</td>\n",
       "      <td>The speech given by President Gamal Abdel Nass...</td>\n",
       "      <td>http://nasser.bibalex.org/Data/GR09_1/Speeches...</td>\n",
       "      <td>23/12/1960</td>\n",
       "      <td>http://nasser.org/Speeches/html.aspx?SID=952&amp;l...</td>\n",
       "      <td>NaN</td>\n",
       "      <td>1960-12-23</td>\n",
       "      <td>10</td>\n",
       "    </tr>\n",
       "    <tr>\n",
       "      <th>963</th>\n",
       "      <td>963</td>\n",
       "      <td>\\n\\n\\n\\n\\nكلمة الرئيس جمال عبد الناصر فى الاحت...</td>\n",
       "      <td>The address by President Gamal Abdel Nasser at...</td>\n",
       "      <td>http://nasser.bibalex.org/Data/GR09_1/Speeches...</td>\n",
       "      <td>21/02/1961</td>\n",
       "      <td>http://nasser.org/Speeches/html.aspx?SID=964&amp;l...</td>\n",
       "      <td>President Gamal Abdel Nasser&amp;#39;s Speech at t...</td>\n",
       "      <td>1961-02-21</td>\n",
       "      <td>0</td>\n",
       "    </tr>\n",
       "    <tr>\n",
       "      <th>978</th>\n",
       "      <td>978</td>\n",
       "      <td>\\n\\n\\n\\n\\nكلمة الرئيس جمال عبد الناصر فى حفل ا...</td>\n",
       "      <td>The address by President Gamal Abdel Nasser at...</td>\n",
       "      <td>http://nasser.bibalex.org/Data/GR09_1/Speeches...</td>\n",
       "      <td>25/03/1961</td>\n",
       "      <td>http://nasser.org/Speeches/html.aspx?SID=979&amp;l...</td>\n",
       "      <td>Speech of President Gamal Abdel Nasser at the ...</td>\n",
       "      <td>1961-03-25</td>\n",
       "      <td>0</td>\n",
       "    </tr>\n",
       "    <tr>\n",
       "      <th>992</th>\n",
       "      <td>992</td>\n",
       "      <td>\\n\\n\\n\\nحديث الرئيس جمال عبد الناصر إلى التليف...</td>\n",
       "      <td>The interview given by President Gamal Abdel N...</td>\n",
       "      <td>http://nasser.bibalex.org/Data/GR09_1/Speeches...</td>\n",
       "      <td>26/08/1961</td>\n",
       "      <td>http://nasser.org/Speeches/html.aspx?SID=993&amp;l...</td>\n",
       "      <td>President Gamal Abdel Nasser&amp;#39;s speech to A...</td>\n",
       "      <td>1961-08-26</td>\n",
       "      <td>5</td>\n",
       "    </tr>\n",
       "    <tr>\n",
       "      <th>994</th>\n",
       "      <td>994</td>\n",
       "      <td>\\n\\n\\n\\n\\nخطاب الرئيس جمال عبد الناصر فى مؤتمر...</td>\n",
       "      <td>The address by President Gamal Abdel Nasser to...</td>\n",
       "      <td>http://nasser.bibalex.org/Data/GR09_1/Speeches...</td>\n",
       "      <td>01/09/1961</td>\n",
       "      <td>http://nasser.org/Speeches/html.aspx?SID=995&amp;l...</td>\n",
       "      <td>Address by President Gamal Abdel Nasser at the...</td>\n",
       "      <td>1961-09-01</td>\n",
       "      <td>0</td>\n",
       "    </tr>\n",
       "    <tr>\n",
       "      <th>1012</th>\n",
       "      <td>1012</td>\n",
       "      <td>\\n\\n\\n\\n\\nكلمة الرئيس جمال عبد الناصر فى الاحت...</td>\n",
       "      <td>The address by President Gamal Abdel Nasser at...</td>\n",
       "      <td>http://nasser.bibalex.org/Data/website html/Na...</td>\n",
       "      <td>22/02/1962</td>\n",
       "      <td>http://nasser.org/Speeches/html.aspx?SID=1013&amp;...</td>\n",
       "      <td>President Gamal Abdel Nasser&amp;#39;s speech at t...</td>\n",
       "      <td>1962-02-22</td>\n",
       "      <td>0</td>\n",
       "    </tr>\n",
       "    <tr>\n",
       "      <th>1047</th>\n",
       "      <td>1047</td>\n",
       "      <td>\\n\\n\\n\\n\\nكلمة الرئيس جمال عبد الناصر فى مؤتمر...</td>\n",
       "      <td>The address by President Gamal Abdel Nasser at...</td>\n",
       "      <td>http://nasser.bibalex.org/Data/website html/Na...</td>\n",
       "      <td>24/05/1963</td>\n",
       "      <td>http://nasser.org/Speeches/html.aspx?SID=1048&amp;...</td>\n",
       "      <td>Address by President Gamal Abdel Nasser at the...</td>\n",
       "      <td>1963-05-24</td>\n",
       "      <td>1</td>\n",
       "    </tr>\n",
       "  </tbody>\n",
       "</table>\n",
       "</div>"
      ],
      "text/plain": [
       "      Unnamed: 0                                              texts  \\\n",
       "951          951  \\n\\n\\n\\n\\nخطاب الرئيس جمال عبد الناصر فى عيد ا...   \n",
       "963          963  \\n\\n\\n\\n\\nكلمة الرئيس جمال عبد الناصر فى الاحت...   \n",
       "978          978  \\n\\n\\n\\n\\nكلمة الرئيس جمال عبد الناصر فى حفل ا...   \n",
       "992          992  \\n\\n\\n\\nحديث الرئيس جمال عبد الناصر إلى التليف...   \n",
       "994          994  \\n\\n\\n\\n\\nخطاب الرئيس جمال عبد الناصر فى مؤتمر...   \n",
       "1012        1012  \\n\\n\\n\\n\\nكلمة الرئيس جمال عبد الناصر فى الاحت...   \n",
       "1047        1047  \\n\\n\\n\\n\\nكلمة الرئيس جمال عبد الناصر فى مؤتمر...   \n",
       "\n",
       "                                                  title  \\\n",
       "951   The speech given by President Gamal Abdel Nass...   \n",
       "963   The address by President Gamal Abdel Nasser at...   \n",
       "978   The address by President Gamal Abdel Nasser at...   \n",
       "992   The interview given by President Gamal Abdel N...   \n",
       "994   The address by President Gamal Abdel Nasser to...   \n",
       "1012  The address by President Gamal Abdel Nasser at...   \n",
       "1047  The address by President Gamal Abdel Nasser at...   \n",
       "\n",
       "                                              text_link        date  \\\n",
       "951   http://nasser.bibalex.org/Data/GR09_1/Speeches...  23/12/1960   \n",
       "963   http://nasser.bibalex.org/Data/GR09_1/Speeches...  21/02/1961   \n",
       "978   http://nasser.bibalex.org/Data/GR09_1/Speeches...  25/03/1961   \n",
       "992   http://nasser.bibalex.org/Data/GR09_1/Speeches...  26/08/1961   \n",
       "994   http://nasser.bibalex.org/Data/GR09_1/Speeches...  01/09/1961   \n",
       "1012  http://nasser.bibalex.org/Data/website html/Na...  22/02/1962   \n",
       "1047  http://nasser.bibalex.org/Data/website html/Na...  24/05/1963   \n",
       "\n",
       "                                              page_link  \\\n",
       "951   http://nasser.org/Speeches/html.aspx?SID=952&l...   \n",
       "963   http://nasser.org/Speeches/html.aspx?SID=964&l...   \n",
       "978   http://nasser.org/Speeches/html.aspx?SID=979&l...   \n",
       "992   http://nasser.org/Speeches/html.aspx?SID=993&l...   \n",
       "994   http://nasser.org/Speeches/html.aspx?SID=995&l...   \n",
       "1012  http://nasser.org/Speeches/html.aspx?SID=1013&...   \n",
       "1047  http://nasser.org/Speeches/html.aspx?SID=1048&...   \n",
       "\n",
       "                                        translated_text  date_time  \\\n",
       "951                                                 NaN 1960-12-23   \n",
       "963   President Gamal Abdel Nasser&#39;s Speech at t... 1961-02-21   \n",
       "978   Speech of President Gamal Abdel Nasser at the ... 1961-03-25   \n",
       "992   President Gamal Abdel Nasser&#39;s speech to A... 1961-08-26   \n",
       "994   Address by President Gamal Abdel Nasser at the... 1961-09-01   \n",
       "1012  President Gamal Abdel Nasser&#39;s speech at t... 1962-02-22   \n",
       "1047  Address by President Gamal Abdel Nasser at the... 1963-05-24   \n",
       "\n",
       "      congo_counts  \n",
       "951             10  \n",
       "963              0  \n",
       "978              0  \n",
       "992              5  \n",
       "994              0  \n",
       "1012             0  \n",
       "1047             1  "
      ]
     },
     "execution_count": 22,
     "metadata": {},
     "output_type": "execute_result"
    }
   ],
   "source": [
    "df.query('texts.str.contains(\"لومومبا\")')"
   ]
  },
  {
   "cell_type": "code",
   "execution_count": 26,
   "metadata": {},
   "outputs": [
    {
     "data": {
      "text/plain": [
       "['A statement given by President Gamal Abdel Nasser to a delegation of Syrian journalists',\n",
       " 'Statements issued by President Gamal Abdel Nasser on the decisions taken by the Revolutionary Command Council on convening the constituent assembly  ',\n",
       " 'A statement issued by President Gamal Abdel Nasser to the American newspaper Hearst on the reality of relations between Egypt and Russia',\n",
       " 'An interview given by President Gamal Abdel Nasser to the French newspaper Carrefour',\n",
       " 'Statements issued by President Gamal Abdel Nasser to Syrian journalists at Manshiat Al Bakri',\n",
       " 'An interview given by President Gamal Abdel Nasser to a delegation of American journalists',\n",
       " 'The speech given by President Gamal Abdel Nasser in Al Gomhouriya Square celebrating the 3rd anniversary of the Revolution with President Sukarno',\n",
       " 'The statement by President Gamal Abdel Nasser to the American media delegation',\n",
       " 'The interview given by President Gamal Abdel Nasser to Kamal Al Shinawy the editor in chief of Al Gomhouriya',\n",
       " 'The speech given by President Gamal Abdel Nasser at the Peopleâ€™s Conference in Gomhouriya Square celebrating the British evacuation',\n",
       " 'The speech given by President Gamal Abdel Nasser in Alexandria on the 4th anniversary of the Revolution “ Nationalizing the Suez Canal”',\n",
       " 'The interview given by President Gamal Abdel Nasser to the correspondent of Look Magazine ',\n",
       " 'The speech given by President Gamal Abdel Nasser at the Peopleâ€™s Conference in Manshia Square in Alexandria celebrating the anniversary of the revolution',\n",
       " 'The interview given by President Gamal Abdel Nasser at a press conference with American journalists',\n",
       " 'The interview given by President Gamal Abdel Nasser to the correspondent from the Columbia broadcasting company',\n",
       " 'The address by President Gamal Abdel Nasser at the Arab â€“ Greek friendship society and the Cyprian Society in honor  of Bishop Macarius',\n",
       " 'The interview given by President Gamal Abdel Nasser to a delegation of Czech journalists',\n",
       " 'The address by President Gamal Abdel Nasser from Damascus after the memorial service of the martyrs of the Iraqi revolution',\n",
       " 'The address by President Gamal Abdel Nasser to a Lebanese delegation from Damascus',\n",
       " 'The interview given by President Gamal Abdel Nasser to John Kennedy the owner and editor in chief of the American magazine Argus Leader',\n",
       " 'The speech given by President Gamal Abdel Nasser at a Peopleâ€™s Conference held by the National Union to celebrate the 7th anniversary of the revolution',\n",
       " 'The speech given by President Gamal Abdel Nasser at Edfina',\n",
       " 'The address by President Gamal Abdel Nasser while laying the foundation stone at the chemicals factory in Alexandria',\n",
       " 'The address by President Gamal Abdel Nasser to a delegation of Arab expatriates in the United States at Antonidas Palace in Alexandria',\n",
       " 'The address by President Gamal Abdel Nasser to members of the engineering syndicate at the university in celebration of the commencement of the High Dam project',\n",
       " 'The address by President Gamal Abdel Nasser at the National Union in Aleppo',\n",
       " 'A press conference given by President Gamal Abdel Nasser to a delegation of American journalists',\n",
       " 'The address by President Gamal Abdel Nasser at the press conference in Lahore',\n",
       " 'The address by President Gamal Abdel Nasser from the Presidential Palace to the members of the board of newspapers and magazines',\n",
       " 'The press conference given by President Gamal Abdel Nasser in Athens',\n",
       " 'The address by President Gamal Abdel Nasser to workers and youth of the National Union at the northern province',\n",
       " 'The interview given by President Gamal Abdel Nasser to Colombia broadcasting company',\n",
       " 'The address by President Gamal Abdel Nasser on Knowledge Day from the main podium of the great hall at Cairo University',\n",
       " 'The speech given by President Gamal Abdel Nasser on Union Day from Gomhouriya Square',\n",
       " 'The address by President Gamal Abdel Nasser presenting the National Charter from Cairo University',\n",
       " 'The interview given by President Gamal Abdel Nasser to the correspondent from the Sunday Times',\n",
       " 'The address by President Gamal Abdel Nasser in Alexandria welcoming the forces back from Yemen',\n",
       " 'The responses of President Gamal Abdel Nasser at the international conference at the National Assembly',\n",
       " 'The speech given by President Gamal Abdel Nasser at Cairo University celebrating Union Day',\n",
       " 'The speech given by President Gamal Abdel Nasser at the opening of the National Assembly']"
      ]
     },
     "execution_count": 26,
     "metadata": {},
     "output_type": "execute_result"
    }
   ],
   "source": [
    "df_press =df.query('texts.str.contains(\"صحافة\")')\n",
    "df_press.title.tolist()"
   ]
  },
  {
   "cell_type": "code",
   "execution_count": null,
   "metadata": {},
   "outputs": [],
   "source": []
  }
 ],
 "metadata": {
  "kernelspec": {
   "display_name": "Python 3",
   "language": "python",
   "name": "python3"
  },
  "language_info": {
   "codemirror_mode": {
    "name": "ipython",
    "version": 3
   },
   "file_extension": ".py",
   "mimetype": "text/x-python",
   "name": "python",
   "nbconvert_exporter": "python",
   "pygments_lexer": "ipython3",
   "version": "3.7.2"
  }
 },
 "nbformat": 4,
 "nbformat_minor": 2
}
