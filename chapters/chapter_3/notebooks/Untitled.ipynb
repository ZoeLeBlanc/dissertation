{
 "cells": [
  {
   "cell_type": "code",
   "execution_count": 2,
   "metadata": {},
   "outputs": [
    {
     "name": "stdout",
     "output_type": "stream",
     "text": [
      "0\n"
     ]
    }
   ],
   "source": [
    "# Import all text files from obituary folder. Be sure to run this notebook in the directory with the text files\n",
    "from pathlib import Path\n",
    "\n",
    "for path in Path.cwd().rglob('*.csv'):\n",
    "    print(path)\n",
    "\n",
    "import os\n",
    "all_txt_files =[]\n",
    "for root, dirs, files in os.walk(\"csv\"):\n",
    "    for file in files:\n",
    "        if file.endswith(\".csv\"):\n",
    "            all_txt_files.append(os.path.join(root, file))\n",
    "# counts the length of the list\n",
    "n_files = len(all_txt_files)\n",
    "print(n_files)"
   ]
  },
  {
   "cell_type": "code",
   "execution_count": 8,
   "metadata": {},
   "outputs": [
    {
     "name": "stdout",
     "output_type": "stream",
     "text": [
      "june261960_ao_topics_list.txt ../notebooks\n",
      "March1960_ar_topics.txt ../notebooks\n"
     ]
    }
   ],
   "source": [
    "for file_name in Path(\"../\").rglob('*.txt'):\n",
    "    print(file_name.name, file_name.parent)"
   ]
  },
  {
   "cell_type": "code",
   "execution_count": null,
   "metadata": {},
   "outputs": [],
   "source": [
    "# Sort and print out first text filename\n",
    "all_txt_files.sort()\n",
    "all_txt_files[0]"
   ]
  },
  {
   "cell_type": "code",
   "execution_count": null,
   "metadata": {},
   "outputs": [],
   "source": [
    "# Read text files and append them to list\n",
    "all_docs = []\n",
    "for txt_file in all_txt_files:\n",
    "    with open(txt_file) as f:\n",
    "        txt_file_as_string = f.read()\n",
    "    all_docs.append(txt_file_as_string)"
   ]
  },
  {
   "cell_type": "code",
   "execution_count": null,
   "metadata": {},
   "outputs": [],
   "source": [
    "#import the TfidfVectorizer from Scikit-Learn.  \n",
    "from sklearn.feature_extraction.text import TfidfVectorizer\n",
    "\n",
    "# TF-IDF transform text files\n",
    "vectorizer = TfidfVectorizer(max_df=.65, min_df=1, stop_words=None, use_idf=True, norm=None)\n",
    "transformed_documents = vectorizer.fit_transform(all_docs)"
   ]
  },
  {
   "cell_type": "code",
   "execution_count": null,
   "metadata": {},
   "outputs": [],
   "source": [
    "transformed_documents_as_array = transformed_documents.toarray()\n",
    "# use this line of code to verify that the numpy array represents the same number of documents that we have in the file list\n",
    "len(transformed_documents_as_array)"
   ]
  },
  {
   "cell_type": "code",
   "execution_count": null,
   "metadata": {},
   "outputs": [],
   "source": [
    "import pandas as pd\n",
    "\n",
    "# make the output folder if it doesn't already exist\n",
    "if not os.path.exists(\"tf_idf_output\"):\n",
    "    os.makedirs(\"tf_idf_output\")\n",
    "\n",
    "# construct a list of output file paths using the previous list of text files the relative path for tf_idf_output\n",
    "output_filenames = [txt_file.replace(\".txt\", \".csv\").replace(\"txt/\", \"tf_idf_output/\") for txt_file in all_txt_files]\n",
    "\n",
    "# loop each item in transformed_documents_as_array, using enumerate to keep track of the current position\n",
    "for counter, doc in enumerate(transformed_documents_as_array):\n",
    "    # construct a dataframe\n",
    "    tf_idf_tuples = list(zip(vectorizer.get_feature_names(), doc))\n",
    "    one_doc_as_df = pd.DataFrame.from_records(tf_idf_tuples, columns=['term', 'score']).sort_values(by='score', ascending=False).reset_index(drop=True)\n",
    "\n",
    "    # output to a csv using the enumerated value for the filename\n",
    "    one_doc_as_df.to_csv(output_filenames[counter])"
   ]
  },
  {
   "cell_type": "code",
   "execution_count": 12,
   "metadata": {},
   "outputs": [],
   "source": [
    "\n",
    "Path('./test').mkdir(parents=True, exist_ok=True)"
   ]
  },
  {
   "cell_type": "code",
   "execution_count": 4,
   "metadata": {},
   "outputs": [
    {
     "name": "stdout",
     "output_type": "stream",
     "text": [
      ". ['.ipynb_checkpoints'] ['arab_scribe_class_ao.png', 'june261960_ao_topics_list.txt', 'Publication Distributions.ipynb', 'Visualizing TFIDF Model of the June 26 1960 Arab Observer.ipynb', 'NER Test.ipynb', 'june261960_ao_topics.png', 'freedomways_raincloud_plot.png', 'Untitled.ipynb', 'Copy1.slides.html', 'march60_ar_topics.png', 'arab_review.png', 'bulletin.png', 'ecopol.png', 'subscription_rates_ArabReview_march1960.csv', 'ecopol_raincloud_plot.png', 'june261960_ao_topics_list.txt.rtf.sb-dd2cf84b-bXLzFF', 'Copy1.ipynb', 'Create Logistic Regression Models Classes and Visualize Their Predictions.ipynb', 'the_review_raincloud_plot.png', 'arab_scribe_raincloud_plot.png', 'the_scribe_raincloud_plot.png', 'March1960_ar_topics.txt', 'The Early Days of Congo Crisis Coverage in Cairo (First Graph Panel).ipynb', 'Topics in magazines.ipynb', 'national_publications_house.jpg', 'Visualizing TFIDF Models of the Arab Observer Summer 1960 and February 1961.ipynb', 'Analyzing Nasser Speeches .ipynb', 'Visualizing the Distribution of the Datasets and Normalizing Across Time.ipynb', 'arab_scribe.png', 'Visualizing TFIDF Models of the Arab Observer Pages that Mention Congo 1960-1961 and 1960-1966.ipynb', 'afro_asian_bulletin_raincloud_plot.png', 'The Early Days of Congo Crisis Coverage in Cairo (First Graph Panel)-Copy1.ipynb', 'liberator.png', 'The Early Days of Congo Crisis Coverage in Cairo (First Graph Panel).slides.html', 'liberator_raincloud_plot.png', 'freedomways.png']\n",
      "./.ipynb_checkpoints [] ['Publication Distributions-checkpoint.ipynb', 'Topics in magazines-checkpoint.ipynb', 'The Early Days of Congo Crisis Coverage in Cairo (First Graph Panel)-Copy1-checkpoint.ipynb', 'Visualizing the Distribution of the Datasets and Normalizing Across Time-checkpoint.ipynb', 'Untitled-checkpoint.ipynb', 'Analyzing Nasser Speeches -checkpoint.ipynb', 'The Early Days of Congo Crisis Coverage in Cairo (First Graph Panel)-checkpoint.ipynb']\n"
     ]
    }
   ],
   "source": [
    "for root, dirs, files in os.walk(\".\"):\n",
    "    print(root, dirs, files)"
   ]
  },
  {
   "cell_type": "code",
   "execution_count": null,
   "metadata": {},
   "outputs": [],
   "source": []
  }
 ],
 "metadata": {
  "kernelspec": {
   "display_name": "Python 3",
   "language": "python",
   "name": "python3"
  },
  "language_info": {
   "codemirror_mode": {
    "name": "ipython",
    "version": 3
   },
   "file_extension": ".py",
   "mimetype": "text/x-python",
   "name": "python",
   "nbconvert_exporter": "python",
   "pygments_lexer": "ipython3",
   "version": "3.7.2"
  }
 },
 "nbformat": 4,
 "nbformat_minor": 2
}
