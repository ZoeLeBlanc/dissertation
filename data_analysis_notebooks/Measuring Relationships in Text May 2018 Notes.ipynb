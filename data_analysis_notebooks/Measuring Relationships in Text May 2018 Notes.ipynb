{
 "cells": [
  {
   "cell_type": "markdown",
   "metadata": {},
   "source": [
    "How to measure relationships in a text? "
   ]
  },
  {
   "cell_type": "markdown",
   "metadata": {},
   "source": [
    "1. Decide on the base unit of analysis\n",
    "2. Pre-process the text. \n",
    "- Break up a base unit of analysis with tokenization. Remove stop words, puncturation. \n",
    "- Stemming and lemmatization\n",
    "- Part of Speech Tagging\n",
    "3. Vectorization. One-hot encoding, TD-IDF. Normalization\n",
    "4. Entity extraction. Resolution might be necessary as well\n",
    "5. Cluster texts\n",
    "    - different types of distance metrics for similarity matching (jaccard w/ minhashing maybe?, Levenstein, tf-idf)\n",
    "    - k-means clustering\n",
    "    - LSA, LDA, Non-Negative Matrix Factorization\n",
    "6. N-Grams and frequencies\n",
    "7. Build out matrix of co-occurence\n",
    "8. Build out graph representation of texts. Calculate centrality and variance of the graph. Cluster density\n",
    "9. Repeat to shuffle, bootstrap, sample texts\n",
    "10. Statistical measures of these methods\n",
    "    - look at distribution between runs\n",
    "    - try to control for the variation\n",
    "    - try to triangulate between methods (maybe some type of correlation metric?)\n",
    "    - figure out how to test for signficance"
   ]
  },
  {
   "cell_type": "markdown",
   "metadata": {},
   "source": [
    "Questions: at what point to do dimensionality reduction? After clustering...maybe? Also difference between ngrams and vectorizations? "
   ]
  },
  {
   "cell_type": "code",
   "execution_count": null,
   "metadata": {},
   "outputs": [],
   "source": []
  }
 ],
 "metadata": {
  "kernelspec": {
   "display_name": "Python 3",
   "language": "python",
   "name": "python3"
  },
  "language_info": {
   "codemirror_mode": {
    "name": "ipython",
    "version": 3
   },
   "file_extension": ".py",
   "mimetype": "text/x-python",
   "name": "python",
   "nbconvert_exporter": "python",
   "pygments_lexer": "ipython3",
   "version": "3.6.3"
  }
 },
 "nbformat": 4,
 "nbformat_minor": 2
}
