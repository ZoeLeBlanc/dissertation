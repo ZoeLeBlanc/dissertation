{
 "cells": [
  {
   "cell_type": "code",
   "execution_count": 1,
   "metadata": {},
   "outputs": [],
   "source": [
    "import nltk\n",
    "from nltk import word_tokenize\n",
    "from nltk.util import ngrams\n",
    "from collections import Counter"
   ]
  },
  {
   "cell_type": "code",
   "execution_count": 2,
   "metadata": {},
   "outputs": [
    {
     "name": "stdout",
     "output_type": "stream",
     "text": [
      "['I', 'need', 'to', 'write', 'a', 'program', 'in', 'NLTK', 'that', 'breaks', 'a', 'corpus', '(', 'a', 'large', 'collection', 'of', 'txt', 'files', ')', 'into', 'unigrams', ',', 'bigrams', ',', 'trigrams', ',', 'fourgrams', 'and', 'fivegrams', '.', 'I', 'need', 'to', 'write', 'a', 'program', 'in', 'NLTK', 'that', 'breaks', 'a', 'corpus']\n"
     ]
    },
    {
     "data": {
      "text/plain": [
       "Counter({('(', 'a', 'large', 'collection', 'of'): 1,\n",
       "         (')', 'into', 'unigrams', ',', 'bigrams'): 1,\n",
       "         (',', 'bigrams', ',', 'trigrams', ','): 1,\n",
       "         (',', 'fourgrams', 'and', 'fivegrams', '.'): 1,\n",
       "         (',', 'trigrams', ',', 'fourgrams', 'and'): 1,\n",
       "         ('.', 'I', 'need', 'to', 'write'): 1,\n",
       "         ('I', 'need', 'to', 'write', 'a'): 2,\n",
       "         ('NLTK', 'that', 'breaks', 'a', 'corpus'): 2,\n",
       "         ('a', 'corpus', '(', 'a', 'large'): 1,\n",
       "         ('a', 'large', 'collection', 'of', 'txt'): 1,\n",
       "         ('a', 'program', 'in', 'NLTK', 'that'): 2,\n",
       "         ('and', 'fivegrams', '.', 'I', 'need'): 1,\n",
       "         ('bigrams', ',', 'trigrams', ',', 'fourgrams'): 1,\n",
       "         ('breaks', 'a', 'corpus', '(', 'a'): 1,\n",
       "         ('collection', 'of', 'txt', 'files', ')'): 1,\n",
       "         ('corpus', '(', 'a', 'large', 'collection'): 1,\n",
       "         ('files', ')', 'into', 'unigrams', ','): 1,\n",
       "         ('fivegrams', '.', 'I', 'need', 'to'): 1,\n",
       "         ('fourgrams', 'and', 'fivegrams', '.', 'I'): 1,\n",
       "         ('in', 'NLTK', 'that', 'breaks', 'a'): 2,\n",
       "         ('into', 'unigrams', ',', 'bigrams', ','): 1,\n",
       "         ('large', 'collection', 'of', 'txt', 'files'): 1,\n",
       "         ('need', 'to', 'write', 'a', 'program'): 2,\n",
       "         ('of', 'txt', 'files', ')', 'into'): 1,\n",
       "         ('program', 'in', 'NLTK', 'that', 'breaks'): 2,\n",
       "         ('that', 'breaks', 'a', 'corpus', '('): 1,\n",
       "         ('to', 'write', 'a', 'program', 'in'): 2,\n",
       "         ('trigrams', ',', 'fourgrams', 'and', 'fivegrams'): 1,\n",
       "         ('txt', 'files', ')', 'into', 'unigrams'): 1,\n",
       "         ('unigrams', ',', 'bigrams', ',', 'trigrams'): 1,\n",
       "         ('write', 'a', 'program', 'in', 'NLTK'): 2})"
      ]
     },
     "execution_count": 2,
     "metadata": {},
     "output_type": "execute_result"
    }
   ],
   "source": [
    "text = \"I need to write a program in NLTK that breaks a corpus (a large collection of txt files) into unigrams, bigrams, trigrams, fourgrams and fivegrams. I need to write a program in NLTK that breaks a corpus\"\n",
    "token = nltk.word_tokenize(text)\n",
    "print(token)\n",
    "bigrams = ngrams(token,2)\n",
    "trigrams = ngrams(token,3)\n",
    "fourgrams = ngrams(token,4)\n",
    "fivegrams = ngrams(token,5)\n",
    "\n",
    "Counter(fivegrams)"
   ]
  },
  {
   "cell_type": "code",
   "execution_count": null,
   "metadata": {},
   "outputs": [],
   "source": []
  }
 ],
 "metadata": {
  "kernelspec": {
   "display_name": "Python 3",
   "language": "python",
   "name": "python3"
  },
  "language_info": {
   "codemirror_mode": {
    "name": "ipython",
    "version": 3
   },
   "file_extension": ".py",
   "mimetype": "text/x-python",
   "name": "python",
   "nbconvert_exporter": "python",
   "pygments_lexer": "ipython3",
   "version": "3.6.3"
  }
 },
 "nbformat": 4,
 "nbformat_minor": 2
}
