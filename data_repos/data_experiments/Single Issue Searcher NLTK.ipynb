{
 "cells": [
  {
   "cell_type": "code",
   "execution_count": 1,
   "metadata": {},
   "outputs": [
    {
     "name": "stdout",
     "output_type": "stream",
     "text": [
      "[nltk_data] Downloading package punkt to /Users/zgl3n/nltk_data...\n",
      "[nltk_data]   Package punkt is already up-to-date!\n",
      "[nltk_data] Downloading package stopwords to /Users/zgl3n/nltk_data...\n",
      "[nltk_data]   Package stopwords is already up-to-date!\n"
     ]
    },
    {
     "data": {
      "text/plain": [
       "True"
      ]
     },
     "execution_count": 1,
     "metadata": {},
     "output_type": "execute_result"
    }
   ],
   "source": [
    "import spacy\n",
    "import pandas as pd\n",
    "import numpy as np\n",
    "import matplotlib.pyplot as plt\n",
    "from sklearn.decomposition import TruncatedSVD, PCA\n",
    "from sklearn.feature_extraction.text import TfidfVectorizer\n",
    "import os\n",
    "import gensim\n",
    "import nltk\n",
    "nltk.download('punkt')\n",
    "import string\n",
    "import csv\n",
    "from nltk.corpus import stopwords\n",
    "nltk.download('stopwords')"
   ]
  },
  {
   "cell_type": "code",
   "execution_count": null,
   "metadata": {},
   "outputs": [],
   "source": [
    "# open file and read in lines\n",
    "with open('AO_August_7_1960.txt', 'r') as file_in:\n",
    "    raw_text = file_in.readlines()\n",
    "aug_7_1960 = ''.join(raw_text)\n",
    "\n",
    "\n",
    "# with open('AO_August_14_1960.txt', 'r') as file_in:\n",
    "#     raw_text = file_in.readlines()\n",
    "# aug_14_1960 = ''.join(raw_text)"
   ]
  },
  {
   "cell_type": "code",
   "execution_count": null,
   "metadata": {},
   "outputs": [],
   "source": [
    "sentences = []\n",
    "for line in raw_text:\n",
    "    sentences.extend(nltk.sent_tokenize(line))\n",
    "\n",
    "tokenized_sentences = []\n",
    "for sentence in sentences:\n",
    "    sent_token = []\n",
    "    for token in nltk.word_tokenize(sentence):\n",
    "        if token in string.punctuation:\n",
    "            pass\n",
    "        elif token in stopwords.words('english'):\n",
    "            pass\n",
    "        else:\n",
    "            sent_token.append(token.lower())\n",
    "    tokenized_sentences.append(sent_token)\n",
    "text = ''\n",
    "for item in tokenized_sentences:\n",
    "    text2 = ' '.join(item)\n",
    "    text += text2 + ' '"
   ]
  }
 ],
 "metadata": {
  "kernelspec": {
   "display_name": "Python 3",
   "language": "python",
   "name": "python3"
  },
  "language_info": {
   "codemirror_mode": {
    "name": "ipython",
    "version": 3
   },
   "file_extension": ".py",
   "mimetype": "text/x-python",
   "name": "python",
   "nbconvert_exporter": "python",
   "pygments_lexer": "ipython3",
   "version": "3.6.3"
  }
 },
 "nbformat": 4,
 "nbformat_minor": 2
}
