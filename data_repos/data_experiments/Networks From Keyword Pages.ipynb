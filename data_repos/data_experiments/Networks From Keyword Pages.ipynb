{
 "cells": [
  {
   "cell_type": "code",
   "execution_count": 18,
   "metadata": {},
   "outputs": [],
   "source": [
    "import spacy\n",
    "import pandas as pd\n",
    "import numpy as np\n",
    "import matplotlib.pyplot as plt\n",
    "from sklearn.decomposition import TruncatedSVD, PCA\n",
    "from sklearn.manifold import MDS\n",
    "from sklearn.feature_extraction.text import CountVectorizer, TfidfVectorizer\n",
    "from sklearn.metrics.pairwise import cosine_similarity, euclidean_distances\n",
    "from sklearn.feature_selection import chi2\n",
    "import os, sys\n",
    "import glob\n",
    "import gensim\n",
    "from gensim.corpora import Dictionary\n",
    "from gensim.similarities import MatrixSimilarity\n",
    "from gensim.models import ldamodel, doc2vec, LsiModel \n",
    "import nltk\n",
    "# nltk.download('punkt')\n",
    "import string\n",
    "import csv\n",
    "import math\n",
    "import statistics\n",
    "import datetime\n",
    "from nltk.corpus import stopwords\n",
    "from nltk.util import ngrams\n",
    "# nltk.download('stopwords')\n",
    "from collections import OrderedDict, Counter, namedtuple\n",
    "import networkx as nx\n",
    "import matplotlib.pyplot as plt\n",
    "from networkx.readwrite import json_graph\n",
    "from bokeh.plotting import figure, show, output_file\n",
    "from bokeh.models import HoverTool, ColumnDataSource\n",
    "from bokeh.layouts import row, column\n",
    "from progress.bar import IncrementalBar\n",
    "import warnings\n",
    "warnings.filterwarnings('ignore')\n",
    "nlp = spacy.load('en_core_web_lg')\n"
   ]
  },
  {
   "cell_type": "code",
   "execution_count": 19,
   "metadata": {},
   "outputs": [],
   "source": [
    "import matplotlib.pyplot as plt\n",
    "import seaborn as sns\n",
    "sns.set()"
   ]
  },
  {
   "cell_type": "code",
   "execution_count": 25,
   "metadata": {},
   "outputs": [],
   "source": [
    "def count_vec(docs, nrange):\n",
    "    print(docs)\n",
    "    count_model = CountVectorizer(ngram_range=(nrange)) # default unigram model\n",
    "    X = count_model.fit_transform(docs.tokenized_text)\n",
    "    Xc = (X.T * X)\n",
    "    # Xc.setdiag(0)\n",
    "    lsa = TruncatedSVD(n_components=X.shape[1]-1, n_iter=10)\n",
    "    lsaOut = lsa.fit(X)\n",
    "    xs, ys = lsaOut.components_[0], lsaOut.components_[1]\n",
    "    vocab = count_model.vocabulary_\n",
    "    labels = [x.strip() for x,y in vocab.items()]\n",
    "    feature_names = count_model.get_feature_names()\n",
    "    best_features = [feature_names[i] for i in lsaOut.components_[0].argsort()[::-1]]\n",
    "    print(labels)\n",
    "#     %matplotlib notebook\n",
    "    for i in range(len(xs)):\n",
    "        # print(labels[i], xs[i], ys[i])\n",
    "        plt.scatter(xs[i], ys[i])\n",
    "        plt.annotate(best_features[i], (xs[i], ys[i]))\n",
    "    plt.show()\n",
    "    # print(pd.DataFrame(X.toarray(), columns=count_model.get_feature_names()[0:100]))\n",
    "    feature_array = np.array(count_model.get_feature_names())\n",
    "    tfidf_sorting = np.argsort(X.toarray()).flatten()[::-1]\n",
    "    \n",
    "    # best_features = [feature_names[i] for i in lsaOut.components_[0].argsort()[::-1]]\n",
    "    print(best_features[:100])\n",
    "    n = 100\n",
    "    top_n = feature_array[tfidf_sorting][:n]\n",
    "    print(list(top_n))"
   ]
  },
  {
   "cell_type": "code",
   "execution_count": 26,
   "metadata": {},
   "outputs": [
    {
     "name": "stdout",
     "output_type": "stream",
     "text": [
      "date                                                 1960-August-14\n",
      "tokenized_text    [arab observer index vol 1- august arab world ...\n",
      "term                                        katanga tshombe belgian\n",
      "page_number                                                       3\n",
      "word_counts                                                       3\n",
      "Name: 0, dtype: object\n",
      "['arab', 'observer', 'index', 'vol', 'august', 'world', 'unity', 'enhanced', 'danger', 'new', 'libya', 'published', 'weekly', 'affairs', 'towards', 'better', 'relations', 'turkey', 'development', 'scientific', 'lines', 'agricultural', 'mission', 'editor', 'in', 'chief', 'mahmoud', 'amr', 'publisher', 'middle', 'east', 'research', 'centre', 'political', 'roundup', 'security', 'council', 'resolution', 'belgium', 'exerts', 'pressure', 'laos', 'cuba', 'west', 'third', 'bloc', 'distributed', 'national', 'publications', 'house', 'sharia', 'mansour', 'cairo', 'price', 'pt', 'african', 'continent', 'triumph', 'peace', 'annual', 'subscription', 'economy', 'central', 'bank', 'established', 'regulate', 'banking', 'business', 'normal', 'conditions', 'cotton', 'trade', 'restored', 'canal', 'improvements', 'cover', 'story', 'page', 'press', 'radio', 'opinion', 'false', 'argument', 'israel', 'suez', 'katanga', 'responsibility', 'financial', 'concerns', '_cartoons', 'nixon', 'll', 'smash', 'russia', 'kennedy', 'anyone', 'us', 'seek', 'nothing', 'reproduced', 'akhbar', 'e1', 'yom', 'shah', 'correspondents', 'said', 've', 'turned', 'arabs', 'recognising', 'long', 'al', 'farah', 'diba', 'boy', 'born', 'call', 'ben', 'girl', 'golda', 'belgian', 'imperialism', 'hollow', 'drum', 'massa', 'tshombe', 'observa']\n"
     ]
    },
    {
     "data": {
      "image/png": "[encoded data removed]",
      "text/plain": [
       "<Figure size 432x288 with 1 Axes>"
      ]
     },
     "metadata": {},
     "output_type": "display_data"
    },
    {
     "name": "stdout",
     "output_type": "stream",
     "text": [
      "['reproduced', 'll', 'akhbar', 'al', 'smash', 've', 'us', 'arabs', 'russia', 'call', 'shah', 'arab', 'peace', 'world', 'israel', '_cartoons', 'drum', 'e1', 'nothing', 'nixon', 'massa', 'anyone', 'long', 'belgian', 'ben', 'kennedy', 'born', 'boy', 'imperialism', 'hollow', 'golda', 'girl', 'correspondents', 'farah', 'diba', 'observa', 'yom', 'said', 'tshombe', 'turned', 'recognising', 'seek', 'libya', 'canal', 'observer', 'belgium', 'east', 'new', 'affairs', 'central', 'centre', 'concerns', 'chief', 'published', 'continent', 'conditions', 'cairo', 'third', 'cotton', 'council', 'cover', 'cuba', 'danger', 'development', 'towards', 'triumph', 'business', 'unity', 'african', 'agricultural', 'west', 'weekly', 'amr', 'annual', 'vol', 'argument', 'trade', 'august', 'bank', 'banking', 'turkey', 'better', 'bloc', 'distributed', 'suez', 'economy', 'subscription', 'resolution', 'mahmoud', 'mansour', 'relations', 'middle', 'mission', 'national', 'regulate', 'normal', 'radio', 'opinion', 'page', 'publisher']\n",
      "['reproduced', 'll', 'akhbar', 'al', 'arabs', 'russia', 'call', 'smash', 'us', 've', 'shah', 'nixon', 'massa', 'golda', 'long', 'world', 'kennedy', 'israel', 'nothing', 'imperialism', 'hollow', 'yom', 'girl', 'farah', 'peace', 'e1', 'drum', 'diba', 'correspondents', 'boy', 'born', 'ben', 'belgian', 'arab', 'anyone', 'observa', '_cartoons', 'recognising', 'tshombe', 'seek', 'said', 'turned', 'third', 'canal', 'central', 'centre', 'chief', 'concerns', 'conditions', 'continent', 'published', 'cairo', 'cotton', 'council', 'cover', 'cuba', 'danger', 'development', 'suez', 'distributed', 'towards', 'trade', 'business', 'unity', 'affairs', 'african', 'agricultural', 'west', 'weekly', 'amr', 'annual', 'vol', 'argument', 'story', 'august', 'bank', 'banking', 'turkey', 'belgium', 'better', 'bloc', 'triumph', 'subscription', 'economy', 'east', 'radio', 'mansour', 'relations', 'middle', 'mission', 'national', 'new', 'regulate', 'normal', 'observer', 'research', 'opinion', 'page', 'publisher', 'political']\n"
     ]
    }
   ],
   "source": [
    "def custom_tokenize(text):\n",
    "    if not text:\n",
    "#       print('The text to be tokenized is a None type. Defaulting to blank string.')\n",
    "        text = ''\n",
    "    return nltk.word_tokenize(text)\n",
    "\n",
    "def join_token_terms(rows):\n",
    "    texts = rows.astype(str).tolist()\n",
    "    final_doc = []\n",
    "    types = ['LOC', 'GPE']\n",
    "    for t in texts: \n",
    "        spacy_terms = ''\n",
    "        page_terms = ''\n",
    "        spacy_text = nlp(t)\n",
    "        tokens = custom_tokenize(t)\n",
    "        for t in tokens:\n",
    "            if t in string.punctuation:\n",
    "                continue\n",
    "            elif t in stopwords.words('english'):\n",
    "                continue\n",
    "                \n",
    "            elif t.isdigit():\n",
    "                continue\n",
    "            else:\n",
    "                \n",
    "                page_terms += t.lower() + ' '\n",
    "        \n",
    "        final_doc.append(page_terms)\n",
    "    return final_doc\n",
    "\n",
    "df = pd.read_csv('../data/combined_all_data_ner_congo.csv')\n",
    "d = df[0:3]\n",
    "df_tokenized = d.groupby(['date'])['tokenized_text'].apply(join_token_terms).reset_index()\n",
    "df_pages = d.groupby(['date'])['page_number'].count().reset_index()\n",
    "df_terms = d.groupby(['date'])['term'].apply(' '.join).reset_index()\n",
    "df_counts = d.groupby(['date'])['word_counts'].sum().reset_index()\n",
    "\n",
    "dl = pd.merge(df_tokenized, df_terms, on=['date'])\n",
    "dn = pd.merge(dl, df_pages, on=['date'])\n",
    "final_df = pd.merge(dn, df_counts, on=['date'])\n",
    "    # print(final_df)\n",
    "for i, row in final_df.iterrows():\n",
    "    #     print(row)\n",
    "\n",
    "    count_df = count_vec(row, (1,1))"
   ]
  },
  {
   "cell_type": "code",
   "execution_count": 28,
   "metadata": {},
   "outputs": [
    {
     "data": {
      "text/plain": [
       "{'libya', 'mahmoud', 'publications'}"
      ]
     },
     "execution_count": 28,
     "metadata": {},
     "output_type": "execute_result"
    }
   ],
   "source": [
    "l1 = set(['reproduced', 'll', 'akhbar', 'al', 'smash', 've', 'us', 'arabs', 'russia', 'call', 'shah', 'arab', 'peace', 'world', 'israel', '_cartoons', 'drum', 'e1', 'nothing', 'nixon', 'massa', 'anyone', 'long', 'belgian', 'ben', 'kennedy', 'born', 'boy', 'imperialism', 'hollow', 'golda', 'girl', 'correspondents', 'farah', 'diba', 'observa', 'yom', 'said', 'tshombe', 'turned', 'recognising', 'seek', 'canal', 'east', 'libya', 'belgium', 'observer', 'new', 'conditions', 'central', 'centre', 'chief', 'concerns', 'published', 'continent', 'towards', 'cotton', 'council', 'cover', 'cuba', 'danger', 'development', 'suez', 'third', 'trade', 'cairo', 'business', 'african', 'agricultural', 'west', 'weekly', 'amr', 'annual', 'vol', 'unity', 'argument', 'august', 'bank', 'banking', 'turkey', 'better', 'bloc', 'triumph', 'subscription', 'distributed', 'economy', 'story', 'publications', 'mahmoud', 'mansour', 'relations', 'middle', 'mission', 'national', 'regulate', 'normal', 'radio', 'opinion', 'page', 'publisher']) \n",
    "l2 = set(['reproduced', 'll', 'akhbar', 'al', 'arabs', 'russia', 'call', 'smash', 'us', 've', 'shah', 'nixon', 'massa', 'golda', 'long', 'world', 'kennedy', 'israel', 'nothing', 'imperialism', 'hollow', 'yom', 'girl', 'farah', 'peace', 'e1', 'drum', 'diba', 'correspondents', 'boy', 'born', 'ben', 'belgian', 'arab', 'anyone', 'observa', '_cartoons', 'recognising', 'tshombe', 'seek', 'said', 'turned', 'third', 'canal', 'central', 'centre', 'chief', 'concerns', 'conditions', 'continent', 'published', 'cairo', 'cotton', 'council', 'cover', 'cuba', 'danger', 'development', 'suez', 'distributed', 'towards', 'trade', 'business', 'unity', 'affairs', 'african', 'agricultural', 'west', 'weekly', 'amr', 'annual', 'vol', 'argument', 'story', 'august', 'bank', 'banking', 'turkey', 'belgium', 'better', 'bloc', 'triumph', 'subscription', 'economy', 'east', 'radio', 'mansour', 'relations', 'middle', 'mission', 'national', 'new', 'regulate', 'normal', 'observer', 'research', 'opinion', 'page', 'publisher', 'political'])\n",
    "l1-l2"
   ]
  },
  {
   "cell_type": "code",
   "execution_count": 77,
   "metadata": {},
   "outputs": [],
   "source": [
    "def tfidf_vec(docs, nrange):\n",
    "    print(docs)\n",
    "    count_model = TfidfVectorizer(ngram_range=(nrange)) # default unigram model\n",
    "    X = count_model.fit_transform(docs.tokenized_text)\n",
    "    Xc = (X.T * X)\n",
    "    # Xc.setdiag(0)\n",
    "    lsa = TruncatedSVD(n_components=2, n_iter=10)\n",
    "    lsaOut = lsa.fit(X)\n",
    "    xs, ys = lsaOut.components_[0], lsaOut.components_[1]\n",
    "    vocab = count_model.vocabulary_\n",
    "    labels = [x.strip() for x,y in vocab.items()]\n",
    "    feature_names = count_model.get_feature_names()\n",
    "    best_features = [feature_names[i] for i in lsaOut.components_[0].argsort()[::-1]]\n",
    "#     print(labels)\n",
    "#     %matplotlib notebook\n",
    "#     for i in range(len(xs)):\n",
    "#         # print(labels[i], xs[i], ys[i])\n",
    "#         plt.scatter(xs[i], ys[i])\n",
    "#         plt.annotate(best_features[i], (xs[i], ys[i]))\n",
    "#     plt.show()\n",
    "    # print(pd.DataFrame(X.toarray(), columns=count_model.get_feature_names()[0:100]))\n",
    "    feature_array = np.array(count_model.get_feature_names())\n",
    "    tfidf_sorting = np.argsort(X.toarray()).flatten()[::-1]\n",
    "    \n",
    "    # best_features = [feature_names[i] for i in lsaOut.components_[0].argsort()[::-1]]\n",
    "    print(best_features[:100], len(best_features))\n",
    "    n = 100\n",
    "    top_n = feature_array[tfidf_sorting][:n]\n",
    "    print(list(top_n), len(feature_array))"
   ]
  },
  {
   "cell_type": "code",
   "execution_count": 79,
   "metadata": {},
   "outputs": [
    {
     "name": "stdout",
     "output_type": "stream",
     "text": [
      "date                                                 1960-August-14\n",
      "tokenized_text    [`` arab observer index vol 1- august arab wor...\n",
      "term              katanga tshombe belgian patrice congo lumumba ...\n",
      "page_number                                                      14\n",
      "word_counts                                                     175\n",
      "Name: 0, dtype: object\n",
      "['united', 'nations', 'forces', 'congo', 'belgium', 'united nations', 'would', 'tshombe', 'katanga', 'belgian', 'government', 'independence', 'france', 'world', 'african', 'security', 'province', 'country', 'shah', 'western', 'countries', 'states', 'hammarskjoeld', 'council', 'mr', 'security council', 'said', 'powers', 'influence', 'israel', 'may', 'august', 'arab', 'peace', 'resolution', 'new', 'people', 'enter', 'lumumba', 'troops', 'al', 'belgian forces', 'one', 'na', 'fact', 'mission', 'un', 'success', 'order', 'general', 'announced', 'political', 'kennedy', 'must', 'in', 'pressure', 'ing', 'situation', 'time', 'mr kennedy', 'imperialism', 'could', 'liberation', 'united na', 'role', 'council resolution', 'attitude', 'tions', 'big', 'canal', 're', 'west', 'common', 'withdrawal', 'independent', 'french', 'el', 'western powers', 'crisis', 'movement', 'companies', 'enter province', 'struggle', 'asian', 'support', 'back', 'foreign', 'two', 'action', 'authority', 'alone', 'help', 'newly', 'editorial', 'way', 'force', 'led', 'us', 'reproduced', 'dag'] 6376\n",
      "['reproduced rose', 'rose', 'el', 'reproduced', 'rose el', 'abdel rahman', 'rahman', 'gaulle', 'de gaulle', 'de', 'abdel', 'say reproduced', 'please mr', 'e1 youssel', 'thief mind', 'law de', 'thief', 'lawyer', 'lawyer defend', 'el uy', 'policeman please', 'agree reproduced', 'el youssef', 'gaulle claimed', 'policeman', 'execution', 'execution algerian', 'please', 'rose e1', 'el yousset', 'rob', 'gaulle abdel', 'el khalifa', 'attitude congo', 'mind mean', 'obs', 'mind', 'uy hussein', 'uy', 'really rob', 'seems', 'seems stealing', 'really', 'defend', 'defend reproduced', 'khrushchev execution', 'khrushchev', 'khalifa accordance', 'khalifa', 'possible really', 'mean possible', 'rob seems', 'accordance law', 'nationalist abdel', 'youssef', 'wrong', 'youssel', 'stealing', 'youssef arab', 'ug de', 'congo ug', 'arab obs', 'want lawyer', 'algerian nationalist', 'wrong agree', 'stealing wrong', 'wanted say', 'claimed khrushchev', 'mr thief', 'claimed', 'hussein wanted', 'congo policeman', 'rahman want', 'rahman el', 'youssel el', 'ug', 'yousset attitude', 'yousset', 'e1', 'accordance', 'algerian', 'agree', 'want', 'wanted', 'mean', 'hussein', 'possible', 'congo', 'law', 'nationalist', 'say', 'attitude', 'mr', 'arab', 'following common', 'following inde', 'fluence', 'forces must', 'following', 'forces nato'] 6376\n",
      "date                                                  1960-August-7\n",
      "tokenized_text    [`` arab observer index vol 1- august arab wor...\n",
      "term              congo belgian congo belgian congo belgian cong...\n",
      "page_number                                                      10\n",
      "word_counts                                                      83\n",
      "Name: 1, dtype: object\n",
      "['congo', 'imperialism', 'israel', 'shah', 'african', 'arab', 'imperialist', 'conspiracy', 'people', 'cairo', 'would', 'belgian', 'africa', 'countries', 'asian', 'states', 'new', 'recognition', 'said', 'editorial', 'solidarity', 'iran', 'independence', 'united', 'national', 'freedom', 'continent', 'general', 'portuguese', 'agents', 'iranian', 'de', 'aggression', 'day', 'country', 'afro', 'government', 'world', 'forces', 'al', 'meeting', 'even', 'troops', 'union', 'peoples', 'reproduced', 'afro asian', 'middle', 'middle east', 'east', 'nasser', 'uar', 'rally', 'attempt', 'means', 'withdrawal', 'facto', 'de facto', 'state', 'congolese', 'asian solidarity', 'political', 'arab observer', 'con', 'bases', 'liberation', 'katanga', 'zionist', 'fact', 'also', 'pact', 'abboud', 'nations', 'observer', 'economic', 'conference', 'july', 'ed', 'abdel', 'set', 'britain', 'president', 'powers', 'today', 'ism', 'iranian people', 're', 'el', 'asian african', 'taken', 'tshombe', 'back', 'support', 'whole', 'nato', 'took', 'belgian troops', 'united states', 'youssef', 'abdel nasser'] 4710\n",
      "['even', 'imperialist', 'abboud', 'tshombe', 'two countries', 'gamal abdel', 'gamal', 'general abboud', 'communique', 'powers', 'nasser', 'forces', 'countries', 'general', 'traitor', 'help', 'abdel nasser', 'asian african', 'states', 'israel', 'asian', 'president', 'abdel', 'two', 'aid', 'relations', 'promoting', 'brotherhood', 'particularly', 'trap', 'closer', 'doubt', 'joint communique', 'sudan', 'good', 'issued', 'president gamal', 'able', 'com', 'nasser general', 'province', 'pretext', 'imperialist forces', 'economic', 'katanga', 'congo', 'editorial', 'imperialist powers', 'fate', 'joint', 'united nations', 'visit', 'rules', 'presence', 'small', 'make', 'must', 'long', 'article', 'july', 'failure', 'african states', 'past', 'belgium', 'african', 'united', 'new', 'political', 'would', 'world', 'al', 'longer', 'nations', 'techni cal', 'good neighbourly', 'continue', 'continuation good', 'continuation', 'technical economic', 'good relations', 'countries pro', 'emerged clear', 'talks president', 'belgium anything', 'tinue', 'tinue adopt', 'techni', 'continue defiance', 'make greater', 'permit', 'future events', 'make challenge', 'belgium help', 'countries promoting', 'threaten belgian', 'attitude imagines', 'get province', 'away ignore', 'count crimes', 'countries concern'] 4710\n",
      "date                                               1960-December-25\n",
      "tokenized_text    [`` arab observer index vol 1- december arab w...\n",
      "term              lumumba congo congo congo congo congo lumumba ...\n",
      "page_number                                                      18\n",
      "word_counts                                                      75\n",
      "Name: 2, dtype: object\n",
      "['people', 'french', 'algeria', 'congo', 'said', 'world', 'united', 'israel', 'peoples', 'arab', 'algerian', 'president', 'de gaulle', 'gaulle', 'de', 'uar', 'cairo', 'al', 'nations', 'general', 'talks', 'france', 'assembly', 'powers', 'also', 'two', 'kardelj', 'rights', 'government', 'state', 'freedom', 'policy', 'visit', 'economic', 'independence', 'united nations', 'soviet', 'states', 'situation', 'declaration', 'liberty', 'asian', 'right', 'hussein', 'kamal', 'editorial', 'general assembly', 'education', 'countries', 'african', 'paper', 'eddin', 'country', 'council', 'cooperation', 'human', 'republic', 'abdel', 'free', 'december', 'one', 'minister', 'colonialism', 'reproduced', 'art', 'radio', 'new', 'western', 'israeli', 'science', 'foreign', 'kamal eddin', 'eddin hussein', 'paper said', 'yugoslav', 'would', 'determination', 'end', 'role', 'un', 'international', 'imperialists', 'support', 'el', 'added', 'development', 'afro', 'lumumba', 'today', 'political', 'nasser', 'national', 'self', 'war', 'went', 'peace', 'day', 'mr', 'vice', 'arab observer'] 8720\n",
      "['security', 'policy', 'congo', 'council', 'al gomhouria', 'security council', 'paper', 'gomhouria', 'al', 'telegraph', 'congo paper', 'daily telegraph', 'belgians congo', 'interests', 'siding', 'release', 'western', 'commented', 'daily', 'belgians', 'war', 'paper said', 'editorial', 'french', 'nation', 'science', 'powers', 'government', 'im', 'peoples', 'uar', 'said western', 'bel', 'bel gians', 'resolution release', 'proposal with', 'ance', 'discrimination bias', 'proposal', 'ideals also', 'maintaining ascendance', 'discrimination', 'agents alone', 'french interests', 'ance revolutionary', 'resolutions adopted', 'union intervene', 'exit congo', 'respects', 'dealing', 'lectual moral', 'lectual', 'dealing western', 'respects french', 'with drawal', 'distort uar', 'ideals', 'promotion nation', 'distort', 'disastrous war', 'unless science', 'efforts already', 'exit', 'instead siding', 'council rejection', 'lawful', 'man carries', 'protects french', 'effect instead', 'becomes clearer', 'coun cil', 'powers policy', 'three former', 'integrity involving', 'manifestation high', 'request withdrawal', 'intel lectual', 'request', 'neutralism siding', 'intel', 'lawful prime', 'western powers', 'powers lost', 'protects', 'another work', 'clearer', 'moral level', 'council esides', 'protecting country', 'afflicted im', 'protecting', 'western coalition', 'council last', 'western agents', 'afflicted', 'manifestation', 'december commented', 'council re', 'mr patrice', 'said daily'] 8720\n"
     ]
    }
   ],
   "source": [
    "def custom_tokenize(text):\n",
    "    if not text:\n",
    "#       print('The text to be tokenized is a None type. Defaulting to blank string.')\n",
    "        text = ''\n",
    "    return nltk.word_tokenize(text)\n",
    "\n",
    "def join_token_terms(rows):\n",
    "\n",
    "    texts = rows.astype(str).tolist()\n",
    "    final_doc = []\n",
    "    types = ['LOC', 'GPE']\n",
    "    for t in texts: \n",
    "        spacy_terms = ''\n",
    "        page_terms = ''\n",
    "        spacy_text = nlp(t)\n",
    "        tokens = custom_tokenize(t)\n",
    "        for t in tokens:\n",
    "            if t in string.punctuation:\n",
    "                continue\n",
    "            elif t in stopwords.words('english'):\n",
    "                continue\n",
    "                \n",
    "            elif t.isdigit():\n",
    "                continue\n",
    "            else:\n",
    "                \n",
    "                page_terms += t.lower() + ' '\n",
    "        \n",
    "        final_doc.append(page_terms)\n",
    "    return final_doc\n",
    "\n",
    "def get_texts(rows):\n",
    "\n",
    "    texts = rows.tolist()\n",
    "    return [texts[0]]\n",
    "\n",
    "df = pd.read_csv('../data/combined_all_data_ner_congo.csv')\n",
    "d = df[0:100]\n",
    "df_tokenized = d.groupby(['date', 'page_number'])['tokenized_text'].apply(get_texts).reset_index()\n",
    "df_tokens = df_tokenized.groupby(['date'])['tokenized_text'].apply(join_token_terms).reset_index()\n",
    "\n",
    "df_pages = df_tokenized.groupby(['date'])['page_number'].count().reset_index()\n",
    "df_terms = d.groupby(['date'])['term'].apply(' '.join).reset_index()\n",
    "df_counts = d.groupby(['date'])['word_counts'].sum().reset_index()\n",
    "\n",
    "dl = pd.merge(df_tokens, df_terms, on=['date'])\n",
    "dn = pd.merge(dl, df_pages, on=['date'])\n",
    "final_df = pd.merge(dn, df_counts, on=['date'])\n",
    "final_df.date.unique()\n",
    "for i, row in final_df.iterrows():\n",
    "    count_df = tfidf_vec(row, (1,2))"
   ]
  },
  {
   "cell_type": "code",
   "execution_count": 33,
   "metadata": {},
   "outputs": [
    {
     "data": {
      "text/plain": [
       "{'enhanced',\n",
       " 'opinion',\n",
       " 'page',\n",
       " 'political',\n",
       " 'press',\n",
       " 'pressure',\n",
       " 'price',\n",
       " 'research',\n",
       " 'resolution',\n",
       " 'responsibility'}"
      ]
     },
     "execution_count": 33,
     "metadata": {},
     "output_type": "execute_result"
    }
   ],
   "source": [
    "l3 = set(['reproduced', 'll', 'akhbar', 'al', 'shah', 'russia', 'call', 'smash', 'arabs', 'us', 've', 'recognising', 'massa', 'long', 'farah', 'kennedy', 'imperialism', 'hollow', 'golda', 'said', 'nixon', 'girl', 'yom', 'seek', 'e1', 'observa', 'drum', 'diba', 'correspondents', 'boy', 'born', 'ben', 'tshombe', 'belgian', 'turned', 'anyone', 'nothing', '_cartoons', 'arab', 'world', 'israel', 'peace', 'libya', 'observer', 'new', 'belgium', 'canal', 'east', 'affairs', 'concerns', 'central', 'third', 'cairo', 'centre', 'chief', 'suez', 'conditions', 'continent', 'cotton', 'council', 'cover', 'cuba', 'danger', 'development', 'business', 'publications', 'towards', 'trade', 'african', 'agricultural', 'west', 'weekly', 'amr', 'annual', 'vol', 'unity', 'argument', 'august', 'bank', 'banking', 'turkey', 'triumph', 'better', 'bloc', 'distributed', 'subscription', 'economy', 'story', 'sharia', 'relations', 'mahmoud', 'mansour', 'regulate', 'middle', 'mission', 'national', 'radio', 'normal', 'publisher', 'published'])\n",
    "l4 = set(['reproduced', 'll', 'akhbar', 'al', 've', 'us', 'arabs', 'smash', 'shah', 'call', 'russia', 'yom', 'kennedy', 'hollow', 'imperialism', 'massa', 'long', 'nixon', 'nothing', 'golda', 'e1', 'girl', 'farah', 'recognising', 'drum', 'diba', 'correspondents', 'boy', 'born', 'ben', 'belgian', 'anyone', 'observa', '_cartoons', 'said', 'tshombe', 'turned', 'seek', 'world', 'israel', 'peace', 'arab', 'regulate', 'continent', 'centre', 'chief', 'concerns', 'conditions', 'cotton', 'towards', 'canal', 'council', 'cover', 'cuba', 'danger', 'development', 'third', 'distributed', 'suez', 'central', 'business', 'trade', 'cairo', 'affairs', 'african', 'agricultural', 'west', 'weekly', 'amr', 'annual', 'vol', 'unity', 'argument', 'august', 'bank', 'banking', 'belgium', 'turkey', 'better', 'bloc', 'triumph', 'east', 'subscription', 'enhanced', 'economy', 'opinion', 'mission', 'national', 'new', 'resolution', 'normal', 'research', 'relations', 'observer', 'page', 'responsibility', 'political', 'press', 'pressure', 'price'])\n",
    "l4-l3"
   ]
  },
  {
   "cell_type": "code",
   "execution_count": 36,
   "metadata": {},
   "outputs": [
    {
     "data": {
      "text/plain": [
       "{'libya', 'mahmoud', 'publications'}"
      ]
     },
     "execution_count": 36,
     "metadata": {},
     "output_type": "execute_result"
    }
   ],
   "source": [
    "l1-l2"
   ]
  },
  {
   "cell_type": "code",
   "execution_count": 37,
   "metadata": {},
   "outputs": [
    {
     "data": {
      "text/plain": [
       "{'opinion', 'page'}"
      ]
     },
     "execution_count": 37,
     "metadata": {},
     "output_type": "execute_result"
    }
   ],
   "source": [
    "l1-l3"
   ]
  },
  {
   "cell_type": "code",
   "execution_count": 38,
   "metadata": {},
   "outputs": [
    {
     "data": {
      "text/plain": [
       "{'libya',\n",
       " 'mahmoud',\n",
       " 'mansour',\n",
       " 'middle',\n",
       " 'publications',\n",
       " 'published',\n",
       " 'publisher',\n",
       " 'radio',\n",
       " 'story'}"
      ]
     },
     "execution_count": 38,
     "metadata": {},
     "output_type": "execute_result"
    }
   ],
   "source": [
    "l1-l4"
   ]
  },
  {
   "cell_type": "code",
   "execution_count": 39,
   "metadata": {},
   "outputs": [
    {
     "data": {
      "text/plain": [
       "{'affairs', 'political', 'research'}"
      ]
     },
     "execution_count": 39,
     "metadata": {},
     "output_type": "execute_result"
    }
   ],
   "source": [
    "l2-l1"
   ]
  },
  {
   "cell_type": "code",
   "execution_count": 40,
   "metadata": {},
   "outputs": [
    {
     "data": {
      "text/plain": [
       "{'opinion', 'page', 'political', 'research'}"
      ]
     },
     "execution_count": 40,
     "metadata": {},
     "output_type": "execute_result"
    }
   ],
   "source": [
    "l2-l3"
   ]
  },
  {
   "cell_type": "code",
   "execution_count": 41,
   "metadata": {},
   "outputs": [
    {
     "data": {
      "text/plain": [
       "{'mansour', 'middle', 'published', 'publisher', 'radio', 'story'}"
      ]
     },
     "execution_count": 41,
     "metadata": {},
     "output_type": "execute_result"
    }
   ],
   "source": [
    "l2-l4"
   ]
  },
  {
   "cell_type": "code",
   "execution_count": 42,
   "metadata": {},
   "outputs": [
    {
     "data": {
      "text/plain": [
       "{'affairs', 'sharia'}"
      ]
     },
     "execution_count": 42,
     "metadata": {},
     "output_type": "execute_result"
    }
   ],
   "source": [
    "l3-l1"
   ]
  },
  {
   "cell_type": "code",
   "execution_count": 43,
   "metadata": {},
   "outputs": [
    {
     "data": {
      "text/plain": [
       "{'libya', 'mahmoud', 'publications', 'sharia'}"
      ]
     },
     "execution_count": 43,
     "metadata": {},
     "output_type": "execute_result"
    }
   ],
   "source": [
    "l3-l2"
   ]
  },
  {
   "cell_type": "code",
   "execution_count": 44,
   "metadata": {},
   "outputs": [
    {
     "data": {
      "text/plain": [
       "{'libya',\n",
       " 'mahmoud',\n",
       " 'mansour',\n",
       " 'middle',\n",
       " 'publications',\n",
       " 'published',\n",
       " 'publisher',\n",
       " 'radio',\n",
       " 'sharia',\n",
       " 'story'}"
      ]
     },
     "execution_count": 44,
     "metadata": {},
     "output_type": "execute_result"
    }
   ],
   "source": [
    "l3-l4"
   ]
  },
  {
   "cell_type": "code",
   "execution_count": 48,
   "metadata": {},
   "outputs": [
    {
     "data": {
      "text/html": [
       "<div>\n",
       "<style scoped>\n",
       "    .dataframe tbody tr th:only-of-type {\n",
       "        vertical-align: middle;\n",
       "    }\n",
       "\n",
       "    .dataframe tbody tr th {\n",
       "        vertical-align: top;\n",
       "    }\n",
       "\n",
       "    .dataframe thead th {\n",
       "        text-align: right;\n",
       "    }\n",
       "</style>\n",
       "<table border=\"1\" class=\"dataframe\">\n",
       "  <thead>\n",
       "    <tr style=\"text-align: right;\">\n",
       "      <th></th>\n",
       "      <th>date</th>\n",
       "      <th>tokenized_text</th>\n",
       "      <th>term</th>\n",
       "      <th>page_number</th>\n",
       "      <th>word_counts</th>\n",
       "    </tr>\n",
       "  </thead>\n",
       "  <tbody>\n",
       "    <tr>\n",
       "      <th>0</th>\n",
       "      <td>1960-August-14</td>\n",
       "      <td>[arab observer index vol 1- august arab world ...</td>\n",
       "      <td>katanga tshombe belgian</td>\n",
       "      <td>3</td>\n",
       "      <td>3</td>\n",
       "    </tr>\n",
       "  </tbody>\n",
       "</table>\n",
       "</div>"
      ],
      "text/plain": [
       "             date                                     tokenized_text  \\\n",
       "0  1960-August-14  [arab observer index vol 1- august arab world ...   \n",
       "\n",
       "                      term  page_number  word_counts  \n",
       "0  katanga tshombe belgian            3            3  "
      ]
     },
     "execution_count": 48,
     "metadata": {},
     "output_type": "execute_result"
    }
   ],
   "source": [
    "final_df"
   ]
  },
  {
   "cell_type": "code",
   "execution_count": null,
   "metadata": {},
   "outputs": [],
   "source": []
  }
 ],
 "metadata": {
  "kernelspec": {
   "display_name": "Python 3",
   "language": "python",
   "name": "python3"
  },
  "language_info": {
   "codemirror_mode": {
    "name": "ipython",
    "version": 3
   },
   "file_extension": ".py",
   "mimetype": "text/x-python",
   "name": "python",
   "nbconvert_exporter": "python",
   "pygments_lexer": "ipython3",
   "version": "3.6.3"
  }
 },
 "nbformat": 4,
 "nbformat_minor": 2
}
