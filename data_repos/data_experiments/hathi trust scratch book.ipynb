{
 "cells": [
  {
   "cell_type": "code",
   "execution_count": 1,
   "metadata": {},
   "outputs": [
    {
     "data": {
      "text/plain": [
       "DataTransformerRegistry.enable('default')"
      ]
     },
     "execution_count": 1,
     "metadata": {},
     "output_type": "execute_result"
    }
   ],
   "source": [
    "import altair as alt\n",
    "import pandas as pd\n",
    "import glob, os\n",
    "import warnings\n",
    "warnings.filterwarnings('ignore')\n",
    "\n",
    "alt.renderers.enable('notebook')\n",
    "alt.data_transformers.enable('default', max_rows=None)"
   ]
  },
  {
   "cell_type": "code",
   "execution_count": null,
   "metadata": {},
   "outputs": [],
   "source": [
    "df = pd.read_csv('arab_observer_1963_1966_hathi.csv')\n",
    "\n",
    "df['year'] = ''\n",
    "df.year[df['title'].str.contains('1963')] = '1963'\n",
    "df.year[df['title'].str.contains('1964')] = '1964'\n",
    "df.year[df['title'].str.contains('1965')] = '1965'\n",
    "df.year[df['title'].str.contains('1966')] = '1966'\n",
    "df['year_date'] = pd.to_datetime(df['year'], format='%Y', errors='ignore')\n",
    "\n",
    "df.to_csv('year_ao_hathi.csv')\n",
    "df_grouped_counts = df.groupby(['title', 'year', 'year_date'])['tokenized_counts'].sum().reset_index()\n",
    "df_grouped_pages = df.groupby(['title', 'year', 'year_date'])['page_number'].count().reset_index()\n",
    "df_1 = pd.merge(df_grouped_counts, df_grouped_pages, on=['title', 'year', 'year_date'])\n",
    "df_1.to_csv('grouped_ao_hathi.csv')\n",
    "\n",
    "melted_counts = pd.melt(df_1, id_vars=['title', 'year', 'year_date'], value_name='value')\n",
    "melted_counts.to_csv('melted_ao_hathi.csv')\n",
    "\n",
    "# melted_counts = melted_counts.sort_values(by['year_date'])\n",
    "# alt.Chart(melted_counts).mark_line(povubuint=True, opacity=0.3).encode(\n",
    "#     x='title',\n",
    "#     y='value',\n",
    "#     color='variable'\n",
    "# )\n",
    "\n",
    "# df_1 = df_1.sort_values(by['year_date'])\n",
    "# alt.Chart(df_1).mark_point().encode(\n",
    "#     x='page_number',\n",
    "#     y='tokenized_counts',\n",
    "#     color='title'\n",
    "# )"
   ]
  },
  {
   "cell_type": "code",
   "execution_count": null,
   "metadata": {},
   "outputs": [],
   "source": [
    "terms = ['patrice','congo','lumumba','tshombe','leopoldville', 'belgian','mobutu','kasavubu','katanga']\n",
    "frames = []\n",
    "for index, row in df.iterrows():\n",
    "    d = pd.DataFrame(input_df.iloc[index]).transpose()\n",
    "    d.reset_index(drop=True, inplace=True)\n",
    "    for t in terms:\n",
    "        text = df.loc[df.tokenized_text.str.contains(t, regex=False) == True]\n",
    "        if len(text) > 0:\n",
    "            counts = df.tokenized_text.apply(lambda x: x.count(t))\n",
    "            if int(counts) > 0:\n",
    "                text['term'] = t\n",
    "                text['word_counts'] = counts\n",
    "                text.reset_index(drop=True, inplace=True)\n",
    "                frames.append(text)\n",
    "\n",
    "ner_df = pd.concat(frames, ignore_index=True)\n",
    "ner_df.to_csv('congo_ao_hathi.csv')"
   ]
  },
  {
   "cell_type": "code",
   "execution_count": null,
   "metadata": {},
   "outputs": [],
   "source": [
    "# ## Distributions by individual pages\n",
    "# alt.Chart(new_df).mark_circle(\n",
    "#     opacity=0.8,\n",
    "#     stroke='black',\n",
    "#     strokeWidth=1\n",
    "# ).encode(\n",
    "#     alt.X('title', axis=alt.Axis(labelAngle=0)),\n",
    "#     alt.Y('term:N'),\n",
    "#     alt.Size('word_counts:Q',\n",
    "#         scale=alt.Scale(range=[0, 500]),\n",
    "#         legend=alt.Legend(title='Number of occurences')\n",
    "#     ),\n",
    "#     alt.Color('term:N'),\n",
    "#     tooltip=['term', 'word_counts', 'title']\n",
    "# ).properties(\n",
    "#     width=480,\n",
    "#     height=350\n",
    "# )"
   ]
  },
  {
   "cell_type": "code",
   "execution_count": null,
   "metadata": {},
   "outputs": [],
   "source": [
    "grouped_df = ner_df.groupby(['title', 'term', 'year', 'year_date'])['word_counts'].sum().reset_index()\n",
    "# grouped_df['string_date'] = grouped_df.date.astype(str)\n",
    "grouped_pages = ner_df.groupby(['title', 'term', 'year', 'year_date'])['page_number'].count().reset_index()\n",
    "# grouped_pages['string_date'] = grouped_pages.date.astype(str)\n",
    "co = pd.merge(grouped_df, grouped_pages, on=['title', 'term', 'year', 'year_date'])"
   ]
  },
  {
   "cell_type": "code",
   "execution_count": null,
   "metadata": {},
   "outputs": [],
   "source": [
    "### Grouped by issues essentially \n",
    "# alt.Chart(co).mark_circle(\n",
    "#     opacity=0.8,\n",
    "#     stroke='black',\n",
    "#     strokeWidth=1\n",
    "# ).encode(\n",
    "#     alt.X('title', axis=alt.Axis(labelAngle=0)),\n",
    "#     alt.Y('term:N'),\n",
    "#     alt.Size('word_counts:Q',\n",
    "#         scale=alt.Scale(range=[0, 500]),\n",
    "#         legend=alt.Legend(title='Number of occurences')\n",
    "#     ),\n",
    "#     alt.Color('term:N'),\n",
    "#     tooltip=['term', 'word_counts', 'title']\n",
    "# ).properties(\n",
    "#     width=480,\n",
    "#     height=350\n",
    "# )"
   ]
  },
  {
   "cell_type": "code",
   "execution_count": null,
   "metadata": {},
   "outputs": [],
   "source": [
    "# alt.Chart(new_df).mark_bar().encode(\n",
    "#     x='title',\n",
    "#     y='sum(word_counts)',\n",
    "#     color='term'\n",
    "# )"
   ]
  },
  {
   "cell_type": "code",
   "execution_count": null,
   "metadata": {},
   "outputs": [],
   "source": [
    "# highlight = alt.selection(type='single', on='mouseover',\n",
    "#                           fields=['term'], nearest=True)\n",
    "\n",
    "# base = alt.Chart(co).encode(\n",
    "#     x='title',\n",
    "#     y='word_counts',\n",
    "#     color='term:N',\n",
    "#     size='page_number'\n",
    "# )\n",
    "\n",
    "# points = base.mark_circle().encode(\n",
    "#     opacity=alt.value(0.6)\n",
    "# ).add_selection(\n",
    "#     highlight\n",
    "# ).properties(\n",
    "#     width=600\n",
    "# )\n",
    "\n",
    "# lines = base.mark_line().encode(\n",
    "#     size=alt.condition(~highlight, alt.value(1), alt.value(3))\n",
    "# )\n",
    "\n",
    "# points + lines"
   ]
  },
  {
   "cell_type": "code",
   "execution_count": null,
   "metadata": {},
   "outputs": [],
   "source": [
    "# alt.Chart(co).mark_line().encode(\n",
    "#     x='title',\n",
    "#     y='word_counts:Q',\n",
    "#     color='term:N',\n",
    "#     row=alt.Row('term:N'\n",
    "#     )\n",
    "# ).properties(height=50, width=400)"
   ]
  },
  {
   "cell_type": "code",
   "execution_count": null,
   "metadata": {},
   "outputs": [],
   "source": [
    "# alt.Chart(co).mark_circle().encode(\n",
    "#     x='word_counts',\n",
    "#     y='page_number',\n",
    "#     color='term',\n",
    "# )"
   ]
  },
  {
   "cell_type": "code",
   "execution_count": null,
   "metadata": {},
   "outputs": [],
   "source": [
    "# counts = co\n",
    "# pts = alt.selection(type=\"single\", fields=['title'])\n",
    "# color = alt.condition(pts,\n",
    "#                       alt.Color('term:N'),\n",
    "#                       alt.value('lightgray'))\n",
    "\n",
    "# lines = alt.Chart(counts).mark_line(point=True, opacity=0.3).encode(\n",
    "#     x=alt.X('title'),\n",
    "#     y='word_counts:Q',\n",
    "#     color=color,\n",
    "#     tooltip=['title', 'term', 'word_counts']\n",
    "# ).properties(\n",
    "#     title='Issue similarity across all words',\n",
    "#     width=700,\n",
    "#     height=300,\n",
    "# )\n",
    "# x_ticks = alt.Chart(counts).mark_bar(opacity=0.7).encode(\n",
    "#     x=alt.X('title'),\n",
    "#     y=alt.Y('page_number'),\n",
    "#     color=color,\n",
    "#     tooltip=['title', 'word_counts']\n",
    "# ).properties(\n",
    "#     width=700,\n",
    "#     height=100,\n",
    "#     selection=pts,\n",
    "#     title='# words'\n",
    "# )\n",
    "# (lines & x_ticks)"
   ]
  }
 ],
 "metadata": {
  "kernelspec": {
   "display_name": "Python 3",
   "language": "python",
   "name": "python3"
  },
  "language_info": {
   "codemirror_mode": {
    "name": "ipython",
    "version": 3
   },
   "file_extension": ".py",
   "mimetype": "text/x-python",
   "name": "python",
   "nbconvert_exporter": "python",
   "pygments_lexer": "ipython3",
   "version": "3.6.3"
  }
 },
 "nbformat": 4,
 "nbformat_minor": 2
}
