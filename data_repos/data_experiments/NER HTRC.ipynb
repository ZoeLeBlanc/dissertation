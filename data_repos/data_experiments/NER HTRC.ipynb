{
 "cells": [
  {
   "cell_type": "markdown",
   "metadata": {},
   "source": [
    "### NER HTRC Notebook\n",
    "Idea: figure out how to model NER by page for each issue. Look at correlations\n",
    "\n",
    "- read in files by issue/pages\n",
    "- display word counts by page\n",
    "- split into issues\n",
    "- save individual issues\n",
    "- run ngram matrices per issue\n",
    "- run NER counts per issue\n",
    "- run NER matrices per issue\n",
    "- look at across years\n"
   ]
  },
  {
   "cell_type": "code",
   "execution_count": null,
   "metadata": {},
   "outputs": [],
   "source": []
  }
 ],
 "metadata": {
  "kernelspec": {
   "display_name": "Python 3",
   "language": "python",
   "name": "python3"
  },
  "language_info": {
   "codemirror_mode": {
    "name": "ipython",
    "version": 3
   },
   "file_extension": ".py",
   "mimetype": "text/x-python",
   "name": "python",
   "nbconvert_exporter": "python",
   "pygments_lexer": "ipython3",
   "version": "3.6.3"
  }
 },
 "nbformat": 4,
 "nbformat_minor": 2
}
